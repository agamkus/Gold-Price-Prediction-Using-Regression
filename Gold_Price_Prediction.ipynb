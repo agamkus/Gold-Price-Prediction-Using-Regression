{
 "cells": [
  {
   "cell_type": "markdown",
   "metadata": {},
   "source": [
    "## Importing Libraries:"
   ]
  },
  {
   "cell_type": "code",
   "execution_count": 1,
   "metadata": {},
   "outputs": [],
   "source": [
    "import warnings\n",
    "warnings.filterwarnings('ignore')\n",
    "\n",
    "import numpy as np\n",
    "import pandas as pd\n",
    "import matplotlib.pyplot as plt\n",
    "import seaborn as sns"
   ]
  },
  {
   "cell_type": "markdown",
   "metadata": {},
   "source": [
    "##### Loading Dataset:"
   ]
  },
  {
   "cell_type": "code",
   "execution_count": 2,
   "metadata": {},
   "outputs": [
    {
     "data": {
      "text/html": [
       "<div>\n",
       "<style scoped>\n",
       "    .dataframe tbody tr th:only-of-type {\n",
       "        vertical-align: middle;\n",
       "    }\n",
       "\n",
       "    .dataframe tbody tr th {\n",
       "        vertical-align: top;\n",
       "    }\n",
       "\n",
       "    .dataframe thead th {\n",
       "        text-align: right;\n",
       "    }\n",
       "</style>\n",
       "<table border=\"1\" class=\"dataframe\">\n",
       "  <thead>\n",
       "    <tr style=\"text-align: right;\">\n",
       "      <th></th>\n",
       "      <th>Date</th>\n",
       "      <th>USD (AM)</th>\n",
       "      <th>USD (PM)</th>\n",
       "      <th>GBP (AM)</th>\n",
       "      <th>GBP (PM)</th>\n",
       "      <th>EURO (AM)</th>\n",
       "      <th>EURO (PM)</th>\n",
       "    </tr>\n",
       "  </thead>\n",
       "  <tbody>\n",
       "    <tr>\n",
       "      <th>0</th>\n",
       "      <td>2001-01-02</td>\n",
       "      <td>272.80</td>\n",
       "      <td>271.10</td>\n",
       "      <td>183.026</td>\n",
       "      <td>181.617</td>\n",
       "      <td>288.677</td>\n",
       "      <td>287.334</td>\n",
       "    </tr>\n",
       "    <tr>\n",
       "      <th>1</th>\n",
       "      <td>2001-01-03</td>\n",
       "      <td>269.00</td>\n",
       "      <td>267.15</td>\n",
       "      <td>178.916</td>\n",
       "      <td>177.390</td>\n",
       "      <td>281.823</td>\n",
       "      <td>281.655</td>\n",
       "    </tr>\n",
       "    <tr>\n",
       "      <th>2</th>\n",
       "      <td>2001-01-04</td>\n",
       "      <td>268.75</td>\n",
       "      <td>267.10</td>\n",
       "      <td>178.869</td>\n",
       "      <td>178.352</td>\n",
       "      <td>282.538</td>\n",
       "      <td>282.049</td>\n",
       "    </tr>\n",
       "    <tr>\n",
       "      <th>3</th>\n",
       "      <td>2001-01-05</td>\n",
       "      <td>268.00</td>\n",
       "      <td>267.40</td>\n",
       "      <td>178.488</td>\n",
       "      <td>178.148</td>\n",
       "      <td>280.775</td>\n",
       "      <td>280.882</td>\n",
       "    </tr>\n",
       "    <tr>\n",
       "      <th>4</th>\n",
       "      <td>2001-01-08</td>\n",
       "      <td>268.60</td>\n",
       "      <td>268.30</td>\n",
       "      <td>178.769</td>\n",
       "      <td>178.664</td>\n",
       "      <td>282.410</td>\n",
       "      <td>282.481</td>\n",
       "    </tr>\n",
       "  </tbody>\n",
       "</table>\n",
       "</div>"
      ],
      "text/plain": [
       "         Date  USD (AM)  USD (PM)  GBP (AM)  GBP (PM)  EURO (AM)  EURO (PM)\n",
       "0  2001-01-02    272.80    271.10   183.026   181.617    288.677    287.334\n",
       "1  2001-01-03    269.00    267.15   178.916   177.390    281.823    281.655\n",
       "2  2001-01-04    268.75    267.10   178.869   178.352    282.538    282.049\n",
       "3  2001-01-05    268.00    267.40   178.488   178.148    280.775    280.882\n",
       "4  2001-01-08    268.60    268.30   178.769   178.664    282.410    282.481"
      ]
     },
     "execution_count": 2,
     "metadata": {},
     "output_type": "execute_result"
    }
   ],
   "source": [
    "gold = pd.read_csv(\"gold_price.csv\")\n",
    "gold.head()"
   ]
  },
  {
   "cell_type": "markdown",
   "metadata": {},
   "source": [
    "##### Getting shape of the dataset:"
   ]
  },
  {
   "cell_type": "code",
   "execution_count": 3,
   "metadata": {},
   "outputs": [
    {
     "data": {
      "text/plain": [
       "(4718, 7)"
      ]
     },
     "execution_count": 3,
     "metadata": {},
     "output_type": "execute_result"
    }
   ],
   "source": [
    "gold.shape"
   ]
  },
  {
   "cell_type": "markdown",
   "metadata": {},
   "source": [
    "##### Checking statistical information:"
   ]
  },
  {
   "cell_type": "code",
   "execution_count": 4,
   "metadata": {},
   "outputs": [
    {
     "data": {
      "text/html": [
       "<div>\n",
       "<style scoped>\n",
       "    .dataframe tbody tr th:only-of-type {\n",
       "        vertical-align: middle;\n",
       "    }\n",
       "\n",
       "    .dataframe tbody tr th {\n",
       "        vertical-align: top;\n",
       "    }\n",
       "\n",
       "    .dataframe thead th {\n",
       "        text-align: right;\n",
       "    }\n",
       "</style>\n",
       "<table border=\"1\" class=\"dataframe\">\n",
       "  <thead>\n",
       "    <tr style=\"text-align: right;\">\n",
       "      <th></th>\n",
       "      <th>USD (AM)</th>\n",
       "      <th>USD (PM)</th>\n",
       "      <th>GBP (AM)</th>\n",
       "      <th>GBP (PM)</th>\n",
       "      <th>EURO (AM)</th>\n",
       "      <th>EURO (PM)</th>\n",
       "    </tr>\n",
       "  </thead>\n",
       "  <tbody>\n",
       "    <tr>\n",
       "      <th>count</th>\n",
       "      <td>4718.000000</td>\n",
       "      <td>4682.000000</td>\n",
       "      <td>4718.000000</td>\n",
       "      <td>4682.000000</td>\n",
       "      <td>4718.000000</td>\n",
       "      <td>4682.000000</td>\n",
       "    </tr>\n",
       "    <tr>\n",
       "      <th>mean</th>\n",
       "      <td>959.990812</td>\n",
       "      <td>959.728684</td>\n",
       "      <td>625.068432</td>\n",
       "      <td>624.921846</td>\n",
       "      <td>773.892791</td>\n",
       "      <td>773.843716</td>\n",
       "    </tr>\n",
       "    <tr>\n",
       "      <th>std</th>\n",
       "      <td>449.456217</td>\n",
       "      <td>449.487106</td>\n",
       "      <td>324.491391</td>\n",
       "      <td>324.544149</td>\n",
       "      <td>351.555806</td>\n",
       "      <td>351.696708</td>\n",
       "    </tr>\n",
       "    <tr>\n",
       "      <th>min</th>\n",
       "      <td>256.700000</td>\n",
       "      <td>255.950000</td>\n",
       "      <td>176.572000</td>\n",
       "      <td>176.441000</td>\n",
       "      <td>276.711000</td>\n",
       "      <td>277.667000</td>\n",
       "    </tr>\n",
       "    <tr>\n",
       "      <th>25%</th>\n",
       "      <td>449.112500</td>\n",
       "      <td>448.612500</td>\n",
       "      <td>244.576750</td>\n",
       "      <td>244.463500</td>\n",
       "      <td>361.393500</td>\n",
       "      <td>361.338750</td>\n",
       "    </tr>\n",
       "    <tr>\n",
       "      <th>50%</th>\n",
       "      <td>1113.125000</td>\n",
       "      <td>1112.275000</td>\n",
       "      <td>717.145000</td>\n",
       "      <td>716.210500</td>\n",
       "      <td>874.354500</td>\n",
       "      <td>875.141500</td>\n",
       "    </tr>\n",
       "    <tr>\n",
       "      <th>75%</th>\n",
       "      <td>1293.750000</td>\n",
       "      <td>1294.225000</td>\n",
       "      <td>939.065500</td>\n",
       "      <td>939.266500</td>\n",
       "      <td>1085.967750</td>\n",
       "      <td>1085.816250</td>\n",
       "    </tr>\n",
       "    <tr>\n",
       "      <th>max</th>\n",
       "      <td>1896.500000</td>\n",
       "      <td>1895.000000</td>\n",
       "      <td>1265.900000</td>\n",
       "      <td>1265.010000</td>\n",
       "      <td>1389.890000</td>\n",
       "      <td>1392.030000</td>\n",
       "    </tr>\n",
       "  </tbody>\n",
       "</table>\n",
       "</div>"
      ],
      "text/plain": [
       "          USD (AM)     USD (PM)     GBP (AM)     GBP (PM)    EURO (AM)  \\\n",
       "count  4718.000000  4682.000000  4718.000000  4682.000000  4718.000000   \n",
       "mean    959.990812   959.728684   625.068432   624.921846   773.892791   \n",
       "std     449.456217   449.487106   324.491391   324.544149   351.555806   \n",
       "min     256.700000   255.950000   176.572000   176.441000   276.711000   \n",
       "25%     449.112500   448.612500   244.576750   244.463500   361.393500   \n",
       "50%    1113.125000  1112.275000   717.145000   716.210500   874.354500   \n",
       "75%    1293.750000  1294.225000   939.065500   939.266500  1085.967750   \n",
       "max    1896.500000  1895.000000  1265.900000  1265.010000  1389.890000   \n",
       "\n",
       "         EURO (PM)  \n",
       "count  4682.000000  \n",
       "mean    773.843716  \n",
       "std     351.696708  \n",
       "min     277.667000  \n",
       "25%     361.338750  \n",
       "50%     875.141500  \n",
       "75%    1085.816250  \n",
       "max    1392.030000  "
      ]
     },
     "execution_count": 4,
     "metadata": {},
     "output_type": "execute_result"
    }
   ],
   "source": [
    "gold.describe()"
   ]
  },
  {
   "cell_type": "markdown",
   "metadata": {},
   "source": [
    "##### Checking Data Types:"
   ]
  },
  {
   "cell_type": "code",
   "execution_count": 5,
   "metadata": {},
   "outputs": [
    {
     "name": "stdout",
     "output_type": "stream",
     "text": [
      "<class 'pandas.core.frame.DataFrame'>\n",
      "RangeIndex: 4718 entries, 0 to 4717\n",
      "Data columns (total 7 columns):\n",
      " #   Column     Non-Null Count  Dtype  \n",
      "---  ------     --------------  -----  \n",
      " 0   Date       4718 non-null   object \n",
      " 1   USD (AM)   4718 non-null   float64\n",
      " 2   USD (PM)   4682 non-null   float64\n",
      " 3   GBP (AM)   4718 non-null   float64\n",
      " 4   GBP (PM)   4682 non-null   float64\n",
      " 5   EURO (AM)  4718 non-null   float64\n",
      " 6   EURO (PM)  4682 non-null   float64\n",
      "dtypes: float64(6), object(1)\n",
      "memory usage: 258.1+ KB\n"
     ]
    }
   ],
   "source": [
    "gold.info()"
   ]
  },
  {
   "cell_type": "markdown",
   "metadata": {},
   "source": [
    "We see that the column `Date` is of the type \"Object\". We'll convert it into the **DateTime** Column."
   ]
  },
  {
   "cell_type": "markdown",
   "metadata": {},
   "source": [
    "##### Checking Null Values:"
   ]
  },
  {
   "cell_type": "code",
   "execution_count": 6,
   "metadata": {},
   "outputs": [
    {
     "data": {
      "text/plain": [
       "Date          0\n",
       "USD (AM)      0\n",
       "USD (PM)     36\n",
       "GBP (AM)      0\n",
       "GBP (PM)     36\n",
       "EURO (AM)     0\n",
       "EURO (PM)    36\n",
       "dtype: int64"
      ]
     },
     "execution_count": 6,
     "metadata": {},
     "output_type": "execute_result"
    }
   ],
   "source": [
    "gold.isnull().sum()"
   ]
  },
  {
   "cell_type": "markdown",
   "metadata": {},
   "source": [
    "We see that there are 36 Null values present in the columns `USD (PM)`, `GBP (PM)` and `EURO (PM)`. These values can't be null for the analysis. Also, we can't replace the Null with **0**, because Gold Price can't be 0. Let's impute the Null Values:"
   ]
  },
  {
   "cell_type": "markdown",
   "metadata": {},
   "source": [
    "##### Imputing Null Values with Mean of the column values:"
   ]
  },
  {
   "cell_type": "code",
   "execution_count": 7,
   "metadata": {},
   "outputs": [],
   "source": [
    "gold['USD (PM)'] = gold['USD (PM)'].fillna(gold['USD (PM)'].mean())\n",
    "gold['GBP (PM)'] = gold['GBP (PM)'].fillna(gold['GBP (PM)'].mean())\n",
    "gold['EURO (PM)'] = gold['EURO (PM)'].fillna(gold['EURO (PM)'].mean())"
   ]
  },
  {
   "cell_type": "markdown",
   "metadata": {},
   "source": [
    "##### Re-checking the Null Values:"
   ]
  },
  {
   "cell_type": "code",
   "execution_count": 8,
   "metadata": {},
   "outputs": [
    {
     "data": {
      "text/plain": [
       "Date         0\n",
       "USD (AM)     0\n",
       "USD (PM)     0\n",
       "GBP (AM)     0\n",
       "GBP (PM)     0\n",
       "EURO (AM)    0\n",
       "EURO (PM)    0\n",
       "dtype: int64"
      ]
     },
     "execution_count": 8,
     "metadata": {},
     "output_type": "execute_result"
    }
   ],
   "source": [
    "gold.isnull().sum()"
   ]
  },
  {
   "cell_type": "markdown",
   "metadata": {},
   "source": [
    "##### Converting `Date` column into DateTime:"
   ]
  },
  {
   "cell_type": "code",
   "execution_count": 9,
   "metadata": {},
   "outputs": [],
   "source": [
    "gold['Date'] = pd.to_datetime(gold['Date'])"
   ]
  },
  {
   "cell_type": "markdown",
   "metadata": {},
   "source": [
    "## Checking Outliers using Boxplot:"
   ]
  },
  {
   "cell_type": "markdown",
   "metadata": {},
   "source": [
    "##### Getting only numerical columns:"
   ]
  },
  {
   "cell_type": "code",
   "execution_count": 10,
   "metadata": {},
   "outputs": [
    {
     "data": {
      "text/plain": [
       "['USD (AM)', 'USD (PM)', 'GBP (AM)', 'GBP (PM)', 'EURO (AM)', 'EURO (PM)']"
      ]
     },
     "execution_count": 10,
     "metadata": {},
     "output_type": "execute_result"
    }
   ],
   "source": [
    "num_vars = list(gold.drop('Date', axis=1))\n",
    "num_vars"
   ]
  },
  {
   "cell_type": "code",
   "execution_count": 11,
   "metadata": {
    "scrolled": false
   },
   "outputs": [
    {
     "data": {
      "image/png": "[encoded data removed]",
      "text/plain": [
       "<Figure size 864x720 with 6 Axes>"
      ]
     },
     "metadata": {
      "needs_background": "light"
     },
     "output_type": "display_data"
    }
   ],
   "source": [
    "plt.figure(figsize=[12,10])\n",
    "for i in range(0, len(num_vars)):\n",
    "    plt.subplot(4,3,i+1)\n",
    "    sns.boxplot(y=num_vars[i], data=gold)\n",
    "    plt.title(num_vars[i].title())\n",
    "    plt.tight_layout()"
   ]
  },
  {
   "cell_type": "markdown",
   "metadata": {},
   "source": [
    "From the above Boxplots, it is clear that there are no outliers present in Data."
   ]
  },
  {
   "cell_type": "markdown",
   "metadata": {},
   "source": [
    "## Feature Engineering:"
   ]
  },
  {
   "cell_type": "markdown",
   "metadata": {},
   "source": [
    "##### Creating Month and Year Columns from the `Date` column:"
   ]
  },
  {
   "cell_type": "code",
   "execution_count": 12,
   "metadata": {},
   "outputs": [],
   "source": [
    "gold['Month'] = gold['Date'].dt.month_name()\n",
    "gold['Year'] = gold['Date'].dt.year"
   ]
  },
  {
   "cell_type": "code",
   "execution_count": 13,
   "metadata": {},
   "outputs": [
    {
     "data": {
      "text/html": [
       "<div>\n",
       "<style scoped>\n",
       "    .dataframe tbody tr th:only-of-type {\n",
       "        vertical-align: middle;\n",
       "    }\n",
       "\n",
       "    .dataframe tbody tr th {\n",
       "        vertical-align: top;\n",
       "    }\n",
       "\n",
       "    .dataframe thead th {\n",
       "        text-align: right;\n",
       "    }\n",
       "</style>\n",
       "<table border=\"1\" class=\"dataframe\">\n",
       "  <thead>\n",
       "    <tr style=\"text-align: right;\">\n",
       "      <th></th>\n",
       "      <th>Date</th>\n",
       "      <th>USD (AM)</th>\n",
       "      <th>USD (PM)</th>\n",
       "      <th>GBP (AM)</th>\n",
       "      <th>GBP (PM)</th>\n",
       "      <th>EURO (AM)</th>\n",
       "      <th>EURO (PM)</th>\n",
       "      <th>Month</th>\n",
       "      <th>Year</th>\n",
       "    </tr>\n",
       "  </thead>\n",
       "  <tbody>\n",
       "    <tr>\n",
       "      <th>0</th>\n",
       "      <td>2001-01-02</td>\n",
       "      <td>272.80</td>\n",
       "      <td>271.10</td>\n",
       "      <td>183.026</td>\n",
       "      <td>181.617</td>\n",
       "      <td>288.677</td>\n",
       "      <td>287.334</td>\n",
       "      <td>January</td>\n",
       "      <td>2001</td>\n",
       "    </tr>\n",
       "    <tr>\n",
       "      <th>1</th>\n",
       "      <td>2001-01-03</td>\n",
       "      <td>269.00</td>\n",
       "      <td>267.15</td>\n",
       "      <td>178.916</td>\n",
       "      <td>177.390</td>\n",
       "      <td>281.823</td>\n",
       "      <td>281.655</td>\n",
       "      <td>January</td>\n",
       "      <td>2001</td>\n",
       "    </tr>\n",
       "    <tr>\n",
       "      <th>2</th>\n",
       "      <td>2001-01-04</td>\n",
       "      <td>268.75</td>\n",
       "      <td>267.10</td>\n",
       "      <td>178.869</td>\n",
       "      <td>178.352</td>\n",
       "      <td>282.538</td>\n",
       "      <td>282.049</td>\n",
       "      <td>January</td>\n",
       "      <td>2001</td>\n",
       "    </tr>\n",
       "    <tr>\n",
       "      <th>3</th>\n",
       "      <td>2001-01-05</td>\n",
       "      <td>268.00</td>\n",
       "      <td>267.40</td>\n",
       "      <td>178.488</td>\n",
       "      <td>178.148</td>\n",
       "      <td>280.775</td>\n",
       "      <td>280.882</td>\n",
       "      <td>January</td>\n",
       "      <td>2001</td>\n",
       "    </tr>\n",
       "    <tr>\n",
       "      <th>4</th>\n",
       "      <td>2001-01-08</td>\n",
       "      <td>268.60</td>\n",
       "      <td>268.30</td>\n",
       "      <td>178.769</td>\n",
       "      <td>178.664</td>\n",
       "      <td>282.410</td>\n",
       "      <td>282.481</td>\n",
       "      <td>January</td>\n",
       "      <td>2001</td>\n",
       "    </tr>\n",
       "  </tbody>\n",
       "</table>\n",
       "</div>"
      ],
      "text/plain": [
       "        Date  USD (AM)  USD (PM)  GBP (AM)  GBP (PM)  EURO (AM)  EURO (PM)  \\\n",
       "0 2001-01-02    272.80    271.10   183.026   181.617    288.677    287.334   \n",
       "1 2001-01-03    269.00    267.15   178.916   177.390    281.823    281.655   \n",
       "2 2001-01-04    268.75    267.10   178.869   178.352    282.538    282.049   \n",
       "3 2001-01-05    268.00    267.40   178.488   178.148    280.775    280.882   \n",
       "4 2001-01-08    268.60    268.30   178.769   178.664    282.410    282.481   \n",
       "\n",
       "     Month  Year  \n",
       "0  January  2001  \n",
       "1  January  2001  \n",
       "2  January  2001  \n",
       "3  January  2001  \n",
       "4  January  2001  "
      ]
     },
     "execution_count": 13,
     "metadata": {},
     "output_type": "execute_result"
    }
   ],
   "source": [
    "gold.head()"
   ]
  },
  {
   "cell_type": "markdown",
   "metadata": {},
   "source": [
    "## Exploratory Data Analysis:"
   ]
  },
  {
   "cell_type": "code",
   "execution_count": 14,
   "metadata": {},
   "outputs": [
    {
     "data": {
      "text/html": [
       "<div>\n",
       "<style scoped>\n",
       "    .dataframe tbody tr th:only-of-type {\n",
       "        vertical-align: middle;\n",
       "    }\n",
       "\n",
       "    .dataframe tbody tr th {\n",
       "        vertical-align: top;\n",
       "    }\n",
       "\n",
       "    .dataframe thead th {\n",
       "        text-align: right;\n",
       "    }\n",
       "</style>\n",
       "<table border=\"1\" class=\"dataframe\">\n",
       "  <thead>\n",
       "    <tr style=\"text-align: right;\">\n",
       "      <th></th>\n",
       "      <th>Date</th>\n",
       "      <th>USD (AM)</th>\n",
       "      <th>USD (PM)</th>\n",
       "      <th>GBP (AM)</th>\n",
       "      <th>GBP (PM)</th>\n",
       "      <th>EURO (AM)</th>\n",
       "      <th>EURO (PM)</th>\n",
       "      <th>Month</th>\n",
       "      <th>Year</th>\n",
       "      <th>Return</th>\n",
       "    </tr>\n",
       "  </thead>\n",
       "  <tbody>\n",
       "    <tr>\n",
       "      <th>1</th>\n",
       "      <td>2001-01-03</td>\n",
       "      <td>269.00</td>\n",
       "      <td>267.15</td>\n",
       "      <td>178.916</td>\n",
       "      <td>177.390</td>\n",
       "      <td>281.823</td>\n",
       "      <td>281.655</td>\n",
       "      <td>January</td>\n",
       "      <td>2001</td>\n",
       "      <td>-1.457027</td>\n",
       "    </tr>\n",
       "    <tr>\n",
       "      <th>2</th>\n",
       "      <td>2001-01-04</td>\n",
       "      <td>268.75</td>\n",
       "      <td>267.10</td>\n",
       "      <td>178.869</td>\n",
       "      <td>178.352</td>\n",
       "      <td>282.538</td>\n",
       "      <td>282.049</td>\n",
       "      <td>January</td>\n",
       "      <td>2001</td>\n",
       "      <td>-0.018716</td>\n",
       "    </tr>\n",
       "    <tr>\n",
       "      <th>3</th>\n",
       "      <td>2001-01-05</td>\n",
       "      <td>268.00</td>\n",
       "      <td>267.40</td>\n",
       "      <td>178.488</td>\n",
       "      <td>178.148</td>\n",
       "      <td>280.775</td>\n",
       "      <td>280.882</td>\n",
       "      <td>January</td>\n",
       "      <td>2001</td>\n",
       "      <td>0.112317</td>\n",
       "    </tr>\n",
       "    <tr>\n",
       "      <th>4</th>\n",
       "      <td>2001-01-08</td>\n",
       "      <td>268.60</td>\n",
       "      <td>268.30</td>\n",
       "      <td>178.769</td>\n",
       "      <td>178.664</td>\n",
       "      <td>282.410</td>\n",
       "      <td>282.481</td>\n",
       "      <td>January</td>\n",
       "      <td>2001</td>\n",
       "      <td>0.336574</td>\n",
       "    </tr>\n",
       "    <tr>\n",
       "      <th>5</th>\n",
       "      <td>2001-01-09</td>\n",
       "      <td>267.75</td>\n",
       "      <td>267.00</td>\n",
       "      <td>179.855</td>\n",
       "      <td>179.195</td>\n",
       "      <td>284.507</td>\n",
       "      <td>283.590</td>\n",
       "      <td>January</td>\n",
       "      <td>2001</td>\n",
       "      <td>-0.484532</td>\n",
       "    </tr>\n",
       "  </tbody>\n",
       "</table>\n",
       "</div>"
      ],
      "text/plain": [
       "        Date  USD (AM)  USD (PM)  GBP (AM)  GBP (PM)  EURO (AM)  EURO (PM)  \\\n",
       "1 2001-01-03    269.00    267.15   178.916   177.390    281.823    281.655   \n",
       "2 2001-01-04    268.75    267.10   178.869   178.352    282.538    282.049   \n",
       "3 2001-01-05    268.00    267.40   178.488   178.148    280.775    280.882   \n",
       "4 2001-01-08    268.60    268.30   178.769   178.664    282.410    282.481   \n",
       "5 2001-01-09    267.75    267.00   179.855   179.195    284.507    283.590   \n",
       "\n",
       "     Month  Year    Return  \n",
       "1  January  2001 -1.457027  \n",
       "2  January  2001 -0.018716  \n",
       "3  January  2001  0.112317  \n",
       "4  January  2001  0.336574  \n",
       "5  January  2001 -0.484532  "
      ]
     },
     "execution_count": 14,
     "metadata": {},
     "output_type": "execute_result"
    }
   ],
   "source": [
    "gold['Return'] = gold['USD (PM)'].pct_change() * 100\n",
    "gold = gold.dropna()\n",
    "gold.head()"
   ]
  },
  {
   "cell_type": "code",
   "execution_count": 15,
   "metadata": {},
   "outputs": [
    {
     "data": {
      "text/html": [
       "<div>\n",
       "<style scoped>\n",
       "    .dataframe tbody tr th:only-of-type {\n",
       "        vertical-align: middle;\n",
       "    }\n",
       "\n",
       "    .dataframe tbody tr th {\n",
       "        vertical-align: top;\n",
       "    }\n",
       "\n",
       "    .dataframe thead th {\n",
       "        text-align: right;\n",
       "    }\n",
       "</style>\n",
       "<table border=\"1\" class=\"dataframe\">\n",
       "  <thead>\n",
       "    <tr style=\"text-align: right;\">\n",
       "      <th></th>\n",
       "      <th>USD (AM)</th>\n",
       "      <th>USD (PM)</th>\n",
       "      <th>GBP (AM)</th>\n",
       "      <th>GBP (PM)</th>\n",
       "      <th>EURO (AM)</th>\n",
       "      <th>EURO (PM)</th>\n",
       "      <th>Year</th>\n",
       "      <th>Return</th>\n",
       "    </tr>\n",
       "    <tr>\n",
       "      <th>Month</th>\n",
       "      <th></th>\n",
       "      <th></th>\n",
       "      <th></th>\n",
       "      <th></th>\n",
       "      <th></th>\n",
       "      <th></th>\n",
       "      <th></th>\n",
       "      <th></th>\n",
       "    </tr>\n",
       "  </thead>\n",
       "  <tbody>\n",
       "    <tr>\n",
       "      <th>April</th>\n",
       "      <td>360133.20</td>\n",
       "      <td>359936.350000</td>\n",
       "      <td>234006.168</td>\n",
       "      <td>233803.676000</td>\n",
       "      <td>290489.655</td>\n",
       "      <td>290358.428000</td>\n",
       "      <td>757764</td>\n",
       "      <td>7.959322</td>\n",
       "    </tr>\n",
       "    <tr>\n",
       "      <th>August</th>\n",
       "      <td>394104.90</td>\n",
       "      <td>394180.250000</td>\n",
       "      <td>259282.980</td>\n",
       "      <td>259384.707000</td>\n",
       "      <td>318245.000</td>\n",
       "      <td>318389.236000</td>\n",
       "      <td>810034</td>\n",
       "      <td>43.964765</td>\n",
       "    </tr>\n",
       "    <tr>\n",
       "      <th>December</th>\n",
       "      <td>345537.75</td>\n",
       "      <td>345399.782636</td>\n",
       "      <td>224144.901</td>\n",
       "      <td>224073.419449</td>\n",
       "      <td>277071.259</td>\n",
       "      <td>277138.797781</td>\n",
       "      <td>725422</td>\n",
       "      <td>1196.852232</td>\n",
       "    </tr>\n",
       "    <tr>\n",
       "      <th>February</th>\n",
       "      <td>369514.70</td>\n",
       "      <td>369507.300000</td>\n",
       "      <td>240797.180</td>\n",
       "      <td>240939.507000</td>\n",
       "      <td>298857.593</td>\n",
       "      <td>299026.127000</td>\n",
       "      <td>769836</td>\n",
       "      <td>32.156253</td>\n",
       "    </tr>\n",
       "    <tr>\n",
       "      <th>January</th>\n",
       "      <td>379203.25</td>\n",
       "      <td>379228.800000</td>\n",
       "      <td>247549.765</td>\n",
       "      <td>247569.246000</td>\n",
       "      <td>306715.767</td>\n",
       "      <td>306845.068000</td>\n",
       "      <td>810032</td>\n",
       "      <td>57.413009</td>\n",
       "    </tr>\n",
       "    <tr>\n",
       "      <th>July</th>\n",
       "      <td>403774.40</td>\n",
       "      <td>403751.850000</td>\n",
       "      <td>264140.733</td>\n",
       "      <td>264109.933000</td>\n",
       "      <td>326812.504</td>\n",
       "      <td>326787.327000</td>\n",
       "      <td>846208</td>\n",
       "      <td>6.405270</td>\n",
       "    </tr>\n",
       "    <tr>\n",
       "      <th>June</th>\n",
       "      <td>384123.30</td>\n",
       "      <td>384104.250000</td>\n",
       "      <td>250366.780</td>\n",
       "      <td>250301.534000</td>\n",
       "      <td>311326.606</td>\n",
       "      <td>311304.253000</td>\n",
       "      <td>806021</td>\n",
       "      <td>-2.480311</td>\n",
       "    </tr>\n",
       "    <tr>\n",
       "      <th>March</th>\n",
       "      <td>394146.45</td>\n",
       "      <td>393900.200000</td>\n",
       "      <td>258827.976</td>\n",
       "      <td>258716.237000</td>\n",
       "      <td>319103.311</td>\n",
       "      <td>318923.131000</td>\n",
       "      <td>824099</td>\n",
       "      <td>-11.861710</td>\n",
       "    </tr>\n",
       "    <tr>\n",
       "      <th>May</th>\n",
       "      <td>371070.40</td>\n",
       "      <td>370954.600000</td>\n",
       "      <td>241338.553</td>\n",
       "      <td>241326.827000</td>\n",
       "      <td>300569.131</td>\n",
       "      <td>300619.548000</td>\n",
       "      <td>777871</td>\n",
       "      <td>7.570117</td>\n",
       "    </tr>\n",
       "    <tr>\n",
       "      <th>November</th>\n",
       "      <td>373011.60</td>\n",
       "      <td>372802.350000</td>\n",
       "      <td>241837.717</td>\n",
       "      <td>241649.536000</td>\n",
       "      <td>299963.491</td>\n",
       "      <td>299738.229000</td>\n",
       "      <td>775673</td>\n",
       "      <td>32.137177</td>\n",
       "    </tr>\n",
       "    <tr>\n",
       "      <th>October</th>\n",
       "      <td>383118.50</td>\n",
       "      <td>382876.200000</td>\n",
       "      <td>247729.554</td>\n",
       "      <td>247596.772000</td>\n",
       "      <td>305522.417</td>\n",
       "      <td>305405.784000</td>\n",
       "      <td>803794</td>\n",
       "      <td>-9.544234</td>\n",
       "    </tr>\n",
       "    <tr>\n",
       "      <th>September</th>\n",
       "      <td>371225.40</td>\n",
       "      <td>371086.900000</td>\n",
       "      <td>238867.529</td>\n",
       "      <td>238728.257000</td>\n",
       "      <td>296260.779</td>\n",
       "      <td>296171.390000</td>\n",
       "      <td>773667</td>\n",
       "      <td>29.625821</td>\n",
       "    </tr>\n",
       "  </tbody>\n",
       "</table>\n",
       "</div>"
      ],
      "text/plain": [
       "            USD (AM)       USD (PM)    GBP (AM)       GBP (PM)   EURO (AM)  \\\n",
       "Month                                                                        \n",
       "April      360133.20  359936.350000  234006.168  233803.676000  290489.655   \n",
       "August     394104.90  394180.250000  259282.980  259384.707000  318245.000   \n",
       "December   345537.75  345399.782636  224144.901  224073.419449  277071.259   \n",
       "February   369514.70  369507.300000  240797.180  240939.507000  298857.593   \n",
       "January    379203.25  379228.800000  247549.765  247569.246000  306715.767   \n",
       "July       403774.40  403751.850000  264140.733  264109.933000  326812.504   \n",
       "June       384123.30  384104.250000  250366.780  250301.534000  311326.606   \n",
       "March      394146.45  393900.200000  258827.976  258716.237000  319103.311   \n",
       "May        371070.40  370954.600000  241338.553  241326.827000  300569.131   \n",
       "November   373011.60  372802.350000  241837.717  241649.536000  299963.491   \n",
       "October    383118.50  382876.200000  247729.554  247596.772000  305522.417   \n",
       "September  371225.40  371086.900000  238867.529  238728.257000  296260.779   \n",
       "\n",
       "               EURO (PM)    Year       Return  \n",
       "Month                                          \n",
       "April      290358.428000  757764     7.959322  \n",
       "August     318389.236000  810034    43.964765  \n",
       "December   277138.797781  725422  1196.852232  \n",
       "February   299026.127000  769836    32.156253  \n",
       "January    306845.068000  810032    57.413009  \n",
       "July       326787.327000  846208     6.405270  \n",
       "June       311304.253000  806021    -2.480311  \n",
       "March      318923.131000  824099   -11.861710  \n",
       "May        300619.548000  777871     7.570117  \n",
       "November   299738.229000  775673    32.137177  \n",
       "October    305405.784000  803794    -9.544234  \n",
       "September  296171.390000  773667    29.625821  "
      ]
     },
     "execution_count": 15,
     "metadata": {},
     "output_type": "execute_result"
    }
   ],
   "source": [
    "df = gold.groupby('Month').sum()\n",
    "df"
   ]
  },
  {
   "cell_type": "markdown",
   "metadata": {},
   "source": [
    "## Data Visualization:"
   ]
  },
  {
   "cell_type": "markdown",
   "metadata": {},
   "source": [
    "##### Barplot:"
   ]
  },
  {
   "cell_type": "code",
   "execution_count": 16,
   "metadata": {},
   "outputs": [
    {
     "data": {
      "image/png": "[encoded data removed]",
      "text/plain": [
       "<Figure size 864x576 with 1 Axes>"
      ]
     },
     "metadata": {
      "needs_background": "light"
     },
     "output_type": "display_data"
    }
   ],
   "source": [
    "plt.figure(figsize=(12,8))\n",
    "plt.bar(df.index, df['Return'])\n",
    "plt.xticks(rotation=90)\n",
    "plt.title(\"Month Wise Total Return \")\n",
    "plt.show()"
   ]
  },
  {
   "cell_type": "markdown",
   "metadata": {},
   "source": [
    "In the month of December, we are geeting maximum return."
   ]
  },
  {
   "cell_type": "markdown",
   "metadata": {},
   "source": [
    "##### Correlation using Heatmap:"
   ]
  },
  {
   "cell_type": "code",
   "execution_count": 17,
   "metadata": {},
   "outputs": [
    {
     "data": {
      "image/png": "[encoded data removed]",
      "text/plain": [
       "<Figure size 720x576 with 2 Axes>"
      ]
     },
     "metadata": {
      "needs_background": "light"
     },
     "output_type": "display_data"
    }
   ],
   "source": [
    "plt.figure(figsize=(10,8))\n",
    "sns.heatmap(gold.corr(), annot=True, cmap='YlGnBu')\n",
    "plt.show()"
   ]
  },
  {
   "cell_type": "markdown",
   "metadata": {},
   "source": [
    "## Train-Test Split:"
   ]
  },
  {
   "cell_type": "markdown",
   "metadata": {},
   "source": [
    "##### Dropping the unnecessary columns:"
   ]
  },
  {
   "cell_type": "code",
   "execution_count": 18,
   "metadata": {},
   "outputs": [
    {
     "data": {
      "text/html": [
       "<div>\n",
       "<style scoped>\n",
       "    .dataframe tbody tr th:only-of-type {\n",
       "        vertical-align: middle;\n",
       "    }\n",
       "\n",
       "    .dataframe tbody tr th {\n",
       "        vertical-align: top;\n",
       "    }\n",
       "\n",
       "    .dataframe thead th {\n",
       "        text-align: right;\n",
       "    }\n",
       "</style>\n",
       "<table border=\"1\" class=\"dataframe\">\n",
       "  <thead>\n",
       "    <tr style=\"text-align: right;\">\n",
       "      <th></th>\n",
       "      <th>USD (AM)</th>\n",
       "      <th>USD (PM)</th>\n",
       "      <th>GBP (AM)</th>\n",
       "      <th>GBP (PM)</th>\n",
       "      <th>EURO (AM)</th>\n",
       "      <th>EURO (PM)</th>\n",
       "      <th>Return</th>\n",
       "    </tr>\n",
       "  </thead>\n",
       "  <tbody>\n",
       "    <tr>\n",
       "      <th>1</th>\n",
       "      <td>269.00</td>\n",
       "      <td>267.15</td>\n",
       "      <td>178.916</td>\n",
       "      <td>177.390</td>\n",
       "      <td>281.823</td>\n",
       "      <td>281.655</td>\n",
       "      <td>-1.457027</td>\n",
       "    </tr>\n",
       "    <tr>\n",
       "      <th>2</th>\n",
       "      <td>268.75</td>\n",
       "      <td>267.10</td>\n",
       "      <td>178.869</td>\n",
       "      <td>178.352</td>\n",
       "      <td>282.538</td>\n",
       "      <td>282.049</td>\n",
       "      <td>-0.018716</td>\n",
       "    </tr>\n",
       "    <tr>\n",
       "      <th>3</th>\n",
       "      <td>268.00</td>\n",
       "      <td>267.40</td>\n",
       "      <td>178.488</td>\n",
       "      <td>178.148</td>\n",
       "      <td>280.775</td>\n",
       "      <td>280.882</td>\n",
       "      <td>0.112317</td>\n",
       "    </tr>\n",
       "    <tr>\n",
       "      <th>4</th>\n",
       "      <td>268.60</td>\n",
       "      <td>268.30</td>\n",
       "      <td>178.769</td>\n",
       "      <td>178.664</td>\n",
       "      <td>282.410</td>\n",
       "      <td>282.481</td>\n",
       "      <td>0.336574</td>\n",
       "    </tr>\n",
       "    <tr>\n",
       "      <th>5</th>\n",
       "      <td>267.75</td>\n",
       "      <td>267.00</td>\n",
       "      <td>179.855</td>\n",
       "      <td>179.195</td>\n",
       "      <td>284.507</td>\n",
       "      <td>283.590</td>\n",
       "      <td>-0.484532</td>\n",
       "    </tr>\n",
       "  </tbody>\n",
       "</table>\n",
       "</div>"
      ],
      "text/plain": [
       "   USD (AM)  USD (PM)  GBP (AM)  GBP (PM)  EURO (AM)  EURO (PM)    Return\n",
       "1    269.00    267.15   178.916   177.390    281.823    281.655 -1.457027\n",
       "2    268.75    267.10   178.869   178.352    282.538    282.049 -0.018716\n",
       "3    268.00    267.40   178.488   178.148    280.775    280.882  0.112317\n",
       "4    268.60    268.30   178.769   178.664    282.410    282.481  0.336574\n",
       "5    267.75    267.00   179.855   179.195    284.507    283.590 -0.484532"
      ]
     },
     "execution_count": 18,
     "metadata": {},
     "output_type": "execute_result"
    }
   ],
   "source": [
    "gold = gold.drop(['Date', 'Month', 'Year'], axis=1)\n",
    "gold.head()"
   ]
  },
  {
   "cell_type": "code",
   "execution_count": 19,
   "metadata": {},
   "outputs": [],
   "source": [
    "from sklearn.model_selection import train_test_split\n",
    "df_train, df_test = train_test_split(gold, train_size = 0.7, test_size = 0.3, random_state = 100)"
   ]
  },
  {
   "cell_type": "code",
   "execution_count": 20,
   "metadata": {},
   "outputs": [
    {
     "data": {
      "text/plain": [
       "(3301, 7)"
      ]
     },
     "execution_count": 20,
     "metadata": {},
     "output_type": "execute_result"
    }
   ],
   "source": [
    "df_train.shape"
   ]
  },
  {
   "cell_type": "code",
   "execution_count": 21,
   "metadata": {},
   "outputs": [
    {
     "data": {
      "text/plain": [
       "(1416, 7)"
      ]
     },
     "execution_count": 21,
     "metadata": {},
     "output_type": "execute_result"
    }
   ],
   "source": [
    "df_test.shape"
   ]
  },
  {
   "cell_type": "markdown",
   "metadata": {},
   "source": [
    "##### Listing columns of the dataset:"
   ]
  },
  {
   "cell_type": "code",
   "execution_count": 22,
   "metadata": {},
   "outputs": [
    {
     "name": "stdout",
     "output_type": "stream",
     "text": [
      "['USD (AM)', 'USD (PM)', 'GBP (AM)', 'GBP (PM)', 'EURO (AM)', 'EURO (PM)', 'Return']\n"
     ]
    }
   ],
   "source": [
    "cols = list(gold)\n",
    "print(cols)"
   ]
  },
  {
   "cell_type": "markdown",
   "metadata": {},
   "source": [
    "##### Scaling the dataset using Mixax Scaler:"
   ]
  },
  {
   "cell_type": "code",
   "execution_count": 23,
   "metadata": {},
   "outputs": [],
   "source": [
    "from sklearn.preprocessing import MinMaxScaler\n",
    "scaler = MinMaxScaler()\n",
    "df_train[cols] = scaler.fit_transform(df_train[cols])"
   ]
  },
  {
   "cell_type": "code",
   "execution_count": 24,
   "metadata": {},
   "outputs": [
    {
     "data": {
      "text/html": [
       "<div>\n",
       "<style scoped>\n",
       "    .dataframe tbody tr th:only-of-type {\n",
       "        vertical-align: middle;\n",
       "    }\n",
       "\n",
       "    .dataframe tbody tr th {\n",
       "        vertical-align: top;\n",
       "    }\n",
       "\n",
       "    .dataframe thead th {\n",
       "        text-align: right;\n",
       "    }\n",
       "</style>\n",
       "<table border=\"1\" class=\"dataframe\">\n",
       "  <thead>\n",
       "    <tr style=\"text-align: right;\">\n",
       "      <th></th>\n",
       "      <th>USD (AM)</th>\n",
       "      <th>USD (PM)</th>\n",
       "      <th>GBP (AM)</th>\n",
       "      <th>GBP (PM)</th>\n",
       "      <th>EURO (AM)</th>\n",
       "      <th>EURO (PM)</th>\n",
       "      <th>Return</th>\n",
       "    </tr>\n",
       "  </thead>\n",
       "  <tbody>\n",
       "    <tr>\n",
       "      <th>4615</th>\n",
       "      <td>0.631114</td>\n",
       "      <td>0.626704</td>\n",
       "      <td>0.739261</td>\n",
       "      <td>0.736948</td>\n",
       "      <td>0.785149</td>\n",
       "      <td>0.777586</td>\n",
       "      <td>0.203710</td>\n",
       "    </tr>\n",
       "    <tr>\n",
       "      <th>663</th>\n",
       "      <td>0.063788</td>\n",
       "      <td>0.063634</td>\n",
       "      <td>0.045787</td>\n",
       "      <td>0.045661</td>\n",
       "      <td>0.040484</td>\n",
       "      <td>0.039729</td>\n",
       "      <td>0.201770</td>\n",
       "    </tr>\n",
       "    <tr>\n",
       "      <th>4545</th>\n",
       "      <td>0.612605</td>\n",
       "      <td>0.429382</td>\n",
       "      <td>0.752471</td>\n",
       "      <td>0.411991</td>\n",
       "      <td>0.745085</td>\n",
       "      <td>0.445256</td>\n",
       "      <td>0.128890</td>\n",
       "    </tr>\n",
       "    <tr>\n",
       "      <th>4560</th>\n",
       "      <td>0.632577</td>\n",
       "      <td>0.631311</td>\n",
       "      <td>0.760421</td>\n",
       "      <td>0.755992</td>\n",
       "      <td>0.772640</td>\n",
       "      <td>0.767993</td>\n",
       "      <td>0.205138</td>\n",
       "    </tr>\n",
       "    <tr>\n",
       "      <th>4323</th>\n",
       "      <td>0.642975</td>\n",
       "      <td>0.646411</td>\n",
       "      <td>0.705295</td>\n",
       "      <td>0.698678</td>\n",
       "      <td>0.714419</td>\n",
       "      <td>0.712428</td>\n",
       "      <td>0.203294</td>\n",
       "    </tr>\n",
       "  </tbody>\n",
       "</table>\n",
       "</div>"
      ],
      "text/plain": [
       "      USD (AM)  USD (PM)  GBP (AM)  GBP (PM)  EURO (AM)  EURO (PM)    Return\n",
       "4615  0.631114  0.626704  0.739261  0.736948   0.785149   0.777586  0.203710\n",
       "663   0.063788  0.063634  0.045787  0.045661   0.040484   0.039729  0.201770\n",
       "4545  0.612605  0.429382  0.752471  0.411991   0.745085   0.445256  0.128890\n",
       "4560  0.632577  0.631311  0.760421  0.755992   0.772640   0.767993  0.205138\n",
       "4323  0.642975  0.646411  0.705295  0.698678   0.714419   0.712428  0.203294"
      ]
     },
     "execution_count": 24,
     "metadata": {},
     "output_type": "execute_result"
    }
   ],
   "source": [
    "df_train.head()"
   ]
  },
  {
   "cell_type": "code",
   "execution_count": 25,
   "metadata": {},
   "outputs": [],
   "source": [
    "df_test[cols] = scaler.transform(df_test[cols])"
   ]
  },
  {
   "cell_type": "code",
   "execution_count": 26,
   "metadata": {},
   "outputs": [
    {
     "data": {
      "text/html": [
       "<div>\n",
       "<style scoped>\n",
       "    .dataframe tbody tr th:only-of-type {\n",
       "        vertical-align: middle;\n",
       "    }\n",
       "\n",
       "    .dataframe tbody tr th {\n",
       "        vertical-align: top;\n",
       "    }\n",
       "\n",
       "    .dataframe thead th {\n",
       "        text-align: right;\n",
       "    }\n",
       "</style>\n",
       "<table border=\"1\" class=\"dataframe\">\n",
       "  <thead>\n",
       "    <tr style=\"text-align: right;\">\n",
       "      <th></th>\n",
       "      <th>USD (AM)</th>\n",
       "      <th>USD (PM)</th>\n",
       "      <th>GBP (AM)</th>\n",
       "      <th>GBP (PM)</th>\n",
       "      <th>EURO (AM)</th>\n",
       "      <th>EURO (PM)</th>\n",
       "      <th>Return</th>\n",
       "    </tr>\n",
       "  </thead>\n",
       "  <tbody>\n",
       "    <tr>\n",
       "      <th>2635</th>\n",
       "      <td>0.779851</td>\n",
       "      <td>0.782038</td>\n",
       "      <td>0.698880</td>\n",
       "      <td>0.700750</td>\n",
       "      <td>0.693600</td>\n",
       "      <td>0.694893</td>\n",
       "      <td>0.204022</td>\n",
       "    </tr>\n",
       "    <tr>\n",
       "      <th>4208</th>\n",
       "      <td>0.628339</td>\n",
       "      <td>0.628016</td>\n",
       "      <td>0.759485</td>\n",
       "      <td>0.757461</td>\n",
       "      <td>0.732198</td>\n",
       "      <td>0.724641</td>\n",
       "      <td>0.204611</td>\n",
       "    </tr>\n",
       "    <tr>\n",
       "      <th>3217</th>\n",
       "      <td>0.648585</td>\n",
       "      <td>0.650865</td>\n",
       "      <td>0.595588</td>\n",
       "      <td>0.593685</td>\n",
       "      <td>0.630373</td>\n",
       "      <td>0.629829</td>\n",
       "      <td>0.207628</td>\n",
       "    </tr>\n",
       "    <tr>\n",
       "      <th>3419</th>\n",
       "      <td>0.643554</td>\n",
       "      <td>0.643086</td>\n",
       "      <td>0.540640</td>\n",
       "      <td>0.538430</td>\n",
       "      <td>0.619159</td>\n",
       "      <td>0.615084</td>\n",
       "      <td>0.206528</td>\n",
       "    </tr>\n",
       "    <tr>\n",
       "      <th>220</th>\n",
       "      <td>0.012776</td>\n",
       "      <td>0.012538</td>\n",
       "      <td>0.013749</td>\n",
       "      <td>0.014025</td>\n",
       "      <td>0.032781</td>\n",
       "      <td>0.032404</td>\n",
       "      <td>0.201499</td>\n",
       "    </tr>\n",
       "  </tbody>\n",
       "</table>\n",
       "</div>"
      ],
      "text/plain": [
       "      USD (AM)  USD (PM)  GBP (AM)  GBP (PM)  EURO (AM)  EURO (PM)    Return\n",
       "2635  0.779851  0.782038  0.698880  0.700750   0.693600   0.694893  0.204022\n",
       "4208  0.628339  0.628016  0.759485  0.757461   0.732198   0.724641  0.204611\n",
       "3217  0.648585  0.650865  0.595588  0.593685   0.630373   0.629829  0.207628\n",
       "3419  0.643554  0.643086  0.540640  0.538430   0.619159   0.615084  0.206528\n",
       "220   0.012776  0.012538  0.013749  0.014025   0.032781   0.032404  0.201499"
      ]
     },
     "execution_count": 26,
     "metadata": {},
     "output_type": "execute_result"
    }
   ],
   "source": [
    "df_test.head()"
   ]
  },
  {
   "cell_type": "markdown",
   "metadata": {},
   "source": [
    "##### Getting Data in X and y variables:"
   ]
  },
  {
   "cell_type": "code",
   "execution_count": 27,
   "metadata": {},
   "outputs": [],
   "source": [
    "y_train = df_train.pop(\"Return\")\n",
    "X_train = df_train"
   ]
  },
  {
   "cell_type": "code",
   "execution_count": 28,
   "metadata": {},
   "outputs": [
    {
     "data": {
      "text/plain": [
       "(3301, 6)"
      ]
     },
     "execution_count": 28,
     "metadata": {},
     "output_type": "execute_result"
    }
   ],
   "source": [
    "X_train.shape"
   ]
  },
  {
   "cell_type": "code",
   "execution_count": 29,
   "metadata": {},
   "outputs": [
    {
     "data": {
      "text/plain": [
       "(3301,)"
      ]
     },
     "execution_count": 29,
     "metadata": {},
     "output_type": "execute_result"
    }
   ],
   "source": [
    "y_train.shape"
   ]
  },
  {
   "cell_type": "markdown",
   "metadata": {},
   "source": [
    "##### Reshaping the data for fitting in the model:"
   ]
  },
  {
   "cell_type": "code",
   "execution_count": 30,
   "metadata": {},
   "outputs": [],
   "source": [
    "y_train = y_train.values.reshape(-1,1)"
   ]
  },
  {
   "cell_type": "markdown",
   "metadata": {},
   "source": [
    "##### Model Fitting:"
   ]
  },
  {
   "cell_type": "code",
   "execution_count": 32,
   "metadata": {},
   "outputs": [
    {
     "data": {
      "text/plain": [
       "LinearRegression()"
      ]
     },
     "execution_count": 32,
     "metadata": {},
     "output_type": "execute_result"
    }
   ],
   "source": [
    "from sklearn.linear_model import LinearRegression\n",
    "lm = LinearRegression()\n",
    "lm.fit(X_train, y_train)"
   ]
  },
  {
   "cell_type": "markdown",
   "metadata": {},
   "source": [
    "##### Getting Coefficients:"
   ]
  },
  {
   "cell_type": "code",
   "execution_count": 33,
   "metadata": {},
   "outputs": [
    {
     "data": {
      "text/plain": [
       "array([[-1.04970122,  1.05252103,  0.03037355, -0.02975964,  0.09819875,\n",
       "        -0.09873102]])"
      ]
     },
     "execution_count": 33,
     "metadata": {},
     "output_type": "execute_result"
    }
   ],
   "source": [
    "lm.coef_"
   ]
  },
  {
   "cell_type": "markdown",
   "metadata": {},
   "source": [
    "##### Getting Intercept\""
   ]
  },
  {
   "cell_type": "code",
   "execution_count": 34,
   "metadata": {},
   "outputs": [
    {
     "data": {
      "text/plain": [
       "array([0.20462135])"
      ]
     },
     "execution_count": 34,
     "metadata": {},
     "output_type": "execute_result"
    }
   ],
   "source": [
    "lm.intercept_"
   ]
  },
  {
   "cell_type": "markdown",
   "metadata": {},
   "source": [
    "##### Prediction on Train Data:"
   ]
  },
  {
   "cell_type": "code",
   "execution_count": 35,
   "metadata": {},
   "outputs": [],
   "source": [
    "y_train_pred = lm.predict(X_train)"
   ]
  },
  {
   "cell_type": "markdown",
   "metadata": {},
   "source": [
    "##### Getting r-2 score of Train Data: "
   ]
  },
  {
   "cell_type": "code",
   "execution_count": 36,
   "metadata": {},
   "outputs": [
    {
     "name": "stdout",
     "output_type": "stream",
     "text": [
      "0.5525261583743029\n"
     ]
    }
   ],
   "source": [
    "from sklearn.metrics import r2_score\n",
    "print(r2_score(y_true=y_train, y_pred=y_train_pred))"
   ]
  },
  {
   "cell_type": "markdown",
   "metadata": {},
   "source": [
    "##### Getting Test Data in X and y varibles:"
   ]
  },
  {
   "cell_type": "code",
   "execution_count": 37,
   "metadata": {},
   "outputs": [],
   "source": [
    "y_test = df_test.pop(\"Return\")\n",
    "X_test = df_test"
   ]
  },
  {
   "cell_type": "code",
   "execution_count": 38,
   "metadata": {},
   "outputs": [
    {
     "data": {
      "text/plain": [
       "(1416, 6)"
      ]
     },
     "execution_count": 38,
     "metadata": {},
     "output_type": "execute_result"
    }
   ],
   "source": [
    "X_test.shape"
   ]
  },
  {
   "cell_type": "code",
   "execution_count": 39,
   "metadata": {},
   "outputs": [
    {
     "data": {
      "text/plain": [
       "(1416,)"
      ]
     },
     "execution_count": 39,
     "metadata": {},
     "output_type": "execute_result"
    }
   ],
   "source": [
    "y_test.shape"
   ]
  },
  {
   "cell_type": "markdown",
   "metadata": {},
   "source": [
    "##### Reshaping the data:"
   ]
  },
  {
   "cell_type": "code",
   "execution_count": 40,
   "metadata": {},
   "outputs": [],
   "source": [
    "y_test = y_test.values.reshape(-1,1)"
   ]
  },
  {
   "cell_type": "markdown",
   "metadata": {},
   "source": [
    "##### Prediction on Test Data:"
   ]
  },
  {
   "cell_type": "code",
   "execution_count": 41,
   "metadata": {},
   "outputs": [],
   "source": [
    "y_test_pred = lm.predict(X_test)"
   ]
  },
  {
   "cell_type": "markdown",
   "metadata": {},
   "source": [
    "##### Getting r-2 score of Test Data:"
   ]
  },
  {
   "cell_type": "code",
   "execution_count": 42,
   "metadata": {},
   "outputs": [
    {
     "name": "stdout",
     "output_type": "stream",
     "text": [
      "0.5860878741207051\n"
     ]
    }
   ],
   "source": [
    "print(r2_score(y_true=y_test, y_pred=y_test_pred))"
   ]
  },
  {
   "cell_type": "code",
   "execution_count": null,
   "metadata": {},
   "outputs": [],
   "source": []
  }
 ],
 "metadata": {
  "kernelspec": {
   "display_name": "Python 3",
   "language": "python",
   "name": "python3"
  },
  "language_info": {
   "codemirror_mode": {
    "name": "ipython",
    "version": 3
   },
   "file_extension": ".py",
   "mimetype": "text/x-python",
   "name": "python",
   "nbconvert_exporter": "python",
   "pygments_lexer": "ipython3",
   "version": "3.7.0"
  }
 },
 "nbformat": 4,
 "nbformat_minor": 4
}
